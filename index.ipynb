{
 "cells": [
  {
   "cell_type": "markdown",
   "metadata": {},
   "source": [
    "# Convolutional Neural Networks - Codealong\n",
    "\n",
    "## Introduction\n",
    "\n",
    "In this code-along, we will reinvestigate our previous Santa image classification example. To do this, we will review loading a dataset from a nested directory structure and building a baseline model. From there, we'll demonstrate building a CNN and demonstrate its improved performance on image recognition tasks. You are recommended to run the cells in order to further explore variables and investigate the code snippets themselves. However, please note that some cells (particularly training cells later on) may take some time to run. [On a Macbook pro the entire notebook took ~15 minutes to run.]\n",
    "\n",
    "## Objectives  \n",
    "\n",
    "You will be able to:\n",
    "* Load data from a hierarchical directory structure\n",
    "* Build a CNN for image recognition tasks"
   ]
  },
  {
   "cell_type": "markdown",
   "metadata": {},
   "source": [
    "## Properly store your images"
   ]
  },
  {
   "cell_type": "markdown",
   "metadata": {},
   "source": [
    "When you're analyzing your image data, file management is important. We will be using the santa images again, but this time, they are just stored in two folders: `santa` and `not_santa`, under. We want to work with a `train`, `validation` and `test` data set now, as we know by now that this is the best way to go. "
   ]
  },
  {
   "cell_type": "markdown",
   "metadata": {},
   "source": [
    "Let's import libraries `os` and `shutil`, as we'll need them to create the new folders and move the new files in there."
   ]
  },
  {
   "cell_type": "code",
   "execution_count": 1,
   "metadata": {},
   "outputs": [],
   "source": [
    "import os, shutil"
   ]
  },
  {
   "cell_type": "markdown",
   "metadata": {},
   "source": [
    "Create three objects representing the existing directories 'data/santa/' as `data_santa_dir` and 'data/not_santa/' as `data_not_santa_dir`. We will create a new directory 'split/' as `new_dir`, where we will split the data set in three groups (or three subdirectories) 'train', 'test' and 'validation', each containing `santa` and `not_santa` subfolders. The final desired structure is represented below:"
   ]
  },
  {
   "cell_type": "markdown",
   "metadata": {},
   "source": [
    "![title](images/folder_structure.png)"
   ]
  },
  {
   "cell_type": "code",
   "execution_count": 2,
   "metadata": {},
   "outputs": [],
   "source": [
    "data_santa_dir = 'data/santa/'\n",
    "data_not_santa_dir = 'data/not_santa/'\n",
    "new_dir = 'split/'"
   ]
  },
  {
   "cell_type": "markdown",
   "metadata": {},
   "source": [
    "You can use `os.listdir()` to create an object that stores all the relevant image names. "
   ]
  },
  {
   "cell_type": "code",
   "execution_count": 3,
   "metadata": {},
   "outputs": [],
   "source": [
    "imgs_santa = [file for file in os.listdir(data_santa_dir) if file.endswith('.jpg')]"
   ]
  },
  {
   "cell_type": "code",
   "execution_count": 4,
   "metadata": {},
   "outputs": [
    {
     "data": {
      "text/plain": [
       "['00000440.jpg',\n",
       " '00000043.jpg',\n",
       " '00000029.jpg',\n",
       " '00000160.jpg',\n",
       " '00000064.jpg',\n",
       " '00000120.jpg',\n",
       " '00000278.jpg',\n",
       " '00000109.jpg',\n",
       " '00000165.jpg',\n",
       " '00000283.jpg']"
      ]
     },
     "execution_count": 4,
     "metadata": {},
     "output_type": "execute_result"
    }
   ],
   "source": [
    "imgs_santa[0:10]"
   ]
  },
  {
   "cell_type": "markdown",
   "metadata": {},
   "source": [
    "Let's see how many images there are in the 'santa' directory."
   ]
  },
  {
   "cell_type": "code",
   "execution_count": 5,
   "metadata": {},
   "outputs": [
    {
     "name": "stdout",
     "output_type": "stream",
     "text": [
      "There are 461 santa images\n"
     ]
    }
   ],
   "source": [
    "print('There are',len(imgs_santa), 'santa images')"
   ]
  },
  {
   "cell_type": "markdown",
   "metadata": {},
   "source": [
    "Now, repeat this for the 'not_santa' directory"
   ]
  },
  {
   "cell_type": "code",
   "execution_count": 6,
   "metadata": {},
   "outputs": [],
   "source": [
    "imgs_not_santa = [file for file in os.listdir(data_not_santa_dir) if file.endswith('.jpg')]"
   ]
  },
  {
   "cell_type": "code",
   "execution_count": 7,
   "metadata": {},
   "outputs": [
    {
     "name": "stdout",
     "output_type": "stream",
     "text": [
      "There are 461 images without santa\n"
     ]
    }
   ],
   "source": [
    "print('There are', len(imgs_not_santa), 'images without santa')"
   ]
  },
  {
   "cell_type": "markdown",
   "metadata": {},
   "source": [
    "Create all the folders and subfolder in order to get the structure represented above. You can use `os.path.join` to create strings that will be used later on to generate new directories."
   ]
  },
  {
   "cell_type": "code",
   "execution_count": 15,
   "metadata": {},
   "outputs": [],
   "source": [
    "# # os.mkdir(new_dir)\n",
    "# os.listdir()"
   ]
  },
  {
   "cell_type": "code",
   "execution_count": 16,
   "metadata": {},
   "outputs": [],
   "source": [
    "train_folder = os.path.join(new_dir, 'train')\n",
    "train_santa = os.path.join(train_folder, 'santa')\n",
    "train_not_santa = os.path.join(train_folder, 'not_santa')\n",
    "\n",
    "test_folder = os.path.join(new_dir, 'test')\n",
    "test_santa = os.path.join(test_folder, 'santa')\n",
    "test_not_santa = os.path.join(test_folder, 'not_santa')\n",
    "\n",
    "val_folder = os.path.join(new_dir, 'validation')\n",
    "val_santa = os.path.join(val_folder, 'santa')\n",
    "val_not_santa = os.path.join(val_folder, 'not_santa')"
   ]
  },
  {
   "cell_type": "code",
   "execution_count": 17,
   "metadata": {},
   "outputs": [
    {
     "data": {
      "text/plain": [
       "'split/train/santa'"
      ]
     },
     "execution_count": 17,
     "metadata": {},
     "output_type": "execute_result"
    }
   ],
   "source": [
    "train_santa"
   ]
  },
  {
   "cell_type": "markdown",
   "metadata": {},
   "source": [
    "Now use all the path strings you created to make new directories. You can use `os.mkdir()` to do this. Go have a look at your directory and see if this worked!"
   ]
  },
  {
   "cell_type": "code",
   "execution_count": 21,
   "metadata": {},
   "outputs": [
    {
     "name": "stdout",
     "output_type": "stream",
     "text": [
      "not_santa  santa\r\n"
     ]
    }
   ],
   "source": [
    "!ls split/test\n"
   ]
  },
  {
   "cell_type": "code",
   "execution_count": 22,
   "metadata": {},
   "outputs": [],
   "source": [
    "# os.mkdir(test_folder)\n",
    "# os.mkdir(test_santa)\n",
    "# os.mkdir(test_not_santa)\n",
    "\n",
    "# os.mkdir(train_folder)\n",
    "# os.mkdir(train_santa)\n",
    "# os.mkdir(train_not_santa)\n",
    "\n",
    "# os.mkdir(val_folder)\n",
    "# os.mkdir(val_santa)\n",
    "# os.mkdir(val_not_santa)"
   ]
  },
  {
   "cell_type": "markdown",
   "metadata": {},
   "source": [
    "Copy the Santa images in the three santa subfolders. Let's put the first 271 images in the training set, the next 100 images in the validation set and the final 90 images in the test set."
   ]
  },
  {
   "cell_type": "code",
   "execution_count": 23,
   "metadata": {},
   "outputs": [],
   "source": [
    "# train santa\n",
    "imgs = imgs_santa[:271]\n",
    "for img in imgs:\n",
    "    origin = os.path.join(data_santa_dir, img)\n",
    "    destination = os.path.join(train_santa, img)\n",
    "    shutil.copyfile(origin, destination)"
   ]
  },
  {
   "cell_type": "code",
   "execution_count": 24,
   "metadata": {},
   "outputs": [],
   "source": [
    "# validation santa\n",
    "imgs = imgs_santa[271:371]\n",
    "for img in imgs:\n",
    "    origin = os.path.join(data_santa_dir, img)\n",
    "    destination = os.path.join(val_santa, img)\n",
    "    shutil.copyfile(origin, destination)"
   ]
  },
  {
   "cell_type": "code",
   "execution_count": 25,
   "metadata": {},
   "outputs": [],
   "source": [
    "# test santa\n",
    "imgs = imgs_santa[371:]\n",
    "for img in imgs:\n",
    "    origin = os.path.join(data_santa_dir, img)\n",
    "    destination = os.path.join(test_santa, img)\n",
    "    shutil.copyfile(origin, destination)"
   ]
  },
  {
   "cell_type": "markdown",
   "metadata": {},
   "source": [
    "Now, repeat all this for the 'not_santa' images!"
   ]
  },
  {
   "cell_type": "code",
   "execution_count": 26,
   "metadata": {},
   "outputs": [],
   "source": [
    "# train not_santa\n",
    "imgs = imgs_not_santa[:271]\n",
    "for img in imgs:\n",
    "    origin = os.path.join(data_not_santa_dir, img)\n",
    "    destination = os.path.join(train_not_santa, img)\n",
    "    shutil.copyfile(origin, destination)\n",
    "# validation not_santa\n",
    "imgs = imgs_not_santa[271:371]\n",
    "for img in imgs:\n",
    "    origin = os.path.join(data_not_santa_dir, img)\n",
    "    destination = os.path.join(val_not_santa, img)\n",
    "    shutil.copyfile(origin, destination)\n",
    "# test not_santa\n",
    "imgs = imgs_not_santa[371:]\n",
    "for img in imgs:\n",
    "    origin = os.path.join(data_not_santa_dir, img)\n",
    "    destination = os.path.join(test_not_santa, img)\n",
    "    shutil.copyfile(origin, destination)"
   ]
  },
  {
   "cell_type": "markdown",
   "metadata": {},
   "source": [
    "Let's print out how many images we have in each directory so we know for sure our numbers are right!"
   ]
  },
  {
   "cell_type": "code",
   "execution_count": 27,
   "metadata": {},
   "outputs": [
    {
     "name": "stdout",
     "output_type": "stream",
     "text": [
      "There are 375 santa images in the training set\n"
     ]
    }
   ],
   "source": [
    "print('There are', len(os.listdir(train_santa)), 'santa images in the training set')"
   ]
  },
  {
   "cell_type": "code",
   "execution_count": 28,
   "metadata": {},
   "outputs": [
    {
     "name": "stdout",
     "output_type": "stream",
     "text": [
      "There are 174 santa images in the validation set\n"
     ]
    }
   ],
   "source": [
    "print('There are', len(os.listdir(val_santa)), 'santa images in the validation set')"
   ]
  },
  {
   "cell_type": "code",
   "execution_count": 29,
   "metadata": {},
   "outputs": [
    {
     "name": "stdout",
     "output_type": "stream",
     "text": [
      "There are 154 santa images in the test set\n"
     ]
    }
   ],
   "source": [
    "print('There are', len(os.listdir(test_santa)), 'santa images in the test set')"
   ]
  },
  {
   "cell_type": "code",
   "execution_count": 30,
   "metadata": {},
   "outputs": [
    {
     "name": "stdout",
     "output_type": "stream",
     "text": [
      "There are 376 images without santa in the train set\n"
     ]
    }
   ],
   "source": [
    "print('There are', len(os.listdir(train_not_santa)), 'images without santa in the train set')"
   ]
  },
  {
   "cell_type": "code",
   "execution_count": 31,
   "metadata": {},
   "outputs": [
    {
     "name": "stdout",
     "output_type": "stream",
     "text": [
      "There are 174 images without santa in the validation set\n"
     ]
    }
   ],
   "source": [
    "print('There are', len(os.listdir(val_not_santa)), 'images without santa in the validation set')"
   ]
  },
  {
   "cell_type": "code",
   "execution_count": 32,
   "metadata": {},
   "outputs": [
    {
     "name": "stdout",
     "output_type": "stream",
     "text": [
      "There are 153 images without santa in the test set\n"
     ]
    }
   ],
   "source": [
    "print('There are', len(os.listdir(test_not_santa)), 'images without santa in the test set')"
   ]
  },
  {
   "cell_type": "markdown",
   "metadata": {},
   "source": [
    "## Use a densely connected network as a baseline"
   ]
  },
  {
   "cell_type": "markdown",
   "metadata": {},
   "source": [
    "Now that we've sorted our data, we can easily use Keras' module with image-processing tools. Let's import the necessary libraries below. "
   ]
  },
  {
   "cell_type": "code",
   "execution_count": 39,
   "metadata": {},
   "outputs": [
    {
     "name": "stdout",
     "output_type": "stream",
     "text": [
      "Requirement already satisfied: Pillow in /opt/conda/envs/learn-env/lib/python3.6/site-packages (6.1.0)\n",
      "\u001b[33mYou are using pip version 10.0.1, however version 19.1.1 is available.\n",
      "You should consider upgrading via the 'pip install --upgrade pip' command.\u001b[0m\n"
     ]
    }
   ],
   "source": [
    "!pip install Pillow\n",
    "import time\n",
    "import matplotlib.pyplot as plt\n",
    "import scipy\n",
    "import numpy as np\n",
    "from PIL import Image\n",
    "from scipy import ndimage\n",
    "from keras.preprocessing.image import ImageDataGenerator, array_to_img, img_to_array, load_img\n",
    "\n",
    "np.random.seed(123)"
   ]
  },
  {
   "cell_type": "code",
   "execution_count": 40,
   "metadata": {},
   "outputs": [
    {
     "name": "stdout",
     "output_type": "stream",
     "text": [
      "Found 307 images belonging to 2 classes.\n",
      "Found 348 images belonging to 2 classes.\n",
      "Found 751 images belonging to 2 classes.\n"
     ]
    }
   ],
   "source": [
    "# get all the data in the directory split/test (180 images), and reshape them\n",
    "test_generator = ImageDataGenerator(rescale=1./255).flow_from_directory(\n",
    "        test_folder, \n",
    "        target_size=(64, 64), batch_size = 180) \n",
    "\n",
    "# get all the data in the directory split/validation (200 images), and reshape them\n",
    "val_generator = ImageDataGenerator(rescale=1./255).flow_from_directory(\n",
    "        val_folder, \n",
    "        target_size=(64, 64), batch_size = 200)\n",
    "\n",
    "# get all the data in the directory split/train (542 images), and reshape them\n",
    "train_generator = ImageDataGenerator(rescale=1./255).flow_from_directory(\n",
    "        train_folder, \n",
    "        target_size=(64, 64), batch_size=542)"
   ]
  },
  {
   "cell_type": "code",
   "execution_count": 41,
   "metadata": {},
   "outputs": [],
   "source": [
    "# create the data sets\n",
    "train_images, train_labels = next(train_generator)\n",
    "test_images, test_labels = next(test_generator)\n",
    "val_images, val_labels = next(val_generator)"
   ]
  },
  {
   "cell_type": "code",
   "execution_count": 42,
   "metadata": {},
   "outputs": [
    {
     "name": "stdout",
     "output_type": "stream",
     "text": [
      "Number of training samples: 542\n",
      "Number of testing samples: 180\n",
      "Number of validation samples: 200\n",
      "train_images shape: (542, 64, 64, 3)\n",
      "train_labels shape: (542, 2)\n",
      "test_images shape: (180, 64, 64, 3)\n",
      "test_labels shape: (180, 2)\n",
      "val_images shape: (200, 64, 64, 3)\n",
      "val_labels shape: (200, 2)\n"
     ]
    }
   ],
   "source": [
    "# Explore your dataset again\n",
    "m_train = train_images.shape[0]\n",
    "num_px = train_images.shape[1]\n",
    "m_test = test_images.shape[0]\n",
    "m_val = val_images.shape[0]\n",
    "\n",
    "print (\"Number of training samples: \" + str(m_train))\n",
    "print (\"Number of testing samples: \" + str(m_test))\n",
    "print (\"Number of validation samples: \" + str(m_val))\n",
    "print (\"train_images shape: \" + str(train_images.shape))\n",
    "print (\"train_labels shape: \" + str(train_labels.shape))\n",
    "print (\"test_images shape: \" + str(test_images.shape))\n",
    "print (\"test_labels shape: \" + str(test_labels.shape))\n",
    "print (\"val_images shape: \" + str(val_images.shape))\n",
    "print (\"val_labels shape: \" + str(val_labels.shape))"
   ]
  },
  {
   "cell_type": "code",
   "execution_count": 43,
   "metadata": {},
   "outputs": [
    {
     "name": "stdout",
     "output_type": "stream",
     "text": [
      "(542, 12288)\n",
      "(180, 12288)\n",
      "(200, 12288)\n"
     ]
    }
   ],
   "source": [
    "train_img = train_images.reshape(train_images.shape[0], -1)\n",
    "test_img = test_images.reshape(test_images.shape[0], -1)\n",
    "val_img = val_images.reshape(val_images.shape[0], -1)\n",
    "\n",
    "print(train_img.shape)\n",
    "print(test_img.shape)\n",
    "print(val_img.shape)"
   ]
  },
  {
   "cell_type": "code",
   "execution_count": 44,
   "metadata": {},
   "outputs": [],
   "source": [
    "train_y = np.reshape(train_labels[:,0], (542,1))\n",
    "test_y = np.reshape(test_labels[:,0], (180,1))\n",
    "val_y = np.reshape(val_labels[:,0], (200,1))"
   ]
  },
  {
   "cell_type": "code",
   "execution_count": 45,
   "metadata": {},
   "outputs": [],
   "source": [
    "from keras import models\n",
    "from keras import layers\n",
    "np.random.seed(123)\n",
    "model = models.Sequential()\n",
    "model.add(layers.Dense(20, activation='relu', input_shape=(12288,))) #2 hidden layers\n",
    "model.add(layers.Dense(7, activation='relu'))\n",
    "model.add(layers.Dense(5, activation='relu'))\n",
    "model.add(layers.Dense(1, activation='sigmoid'))"
   ]
  },
  {
   "cell_type": "code",
   "execution_count": 46,
   "metadata": {},
   "outputs": [
    {
     "name": "stdout",
     "output_type": "stream",
     "text": [
      "Train on 542 samples, validate on 200 samples\n",
      "Epoch 1/50\n",
      "542/542 [==============================] - 0s 481us/step - loss: 0.6989 - acc: 0.5406 - val_loss: 0.6876 - val_acc: 0.6000\n",
      "Epoch 2/50\n",
      "542/542 [==============================] - 0s 221us/step - loss: 0.6785 - acc: 0.5646 - val_loss: 0.6872 - val_acc: 0.5950\n",
      "Epoch 3/50\n",
      "542/542 [==============================] - 0s 215us/step - loss: 0.6647 - acc: 0.5517 - val_loss: 0.6654 - val_acc: 0.7000\n",
      "Epoch 4/50\n",
      "542/542 [==============================] - 0s 278us/step - loss: 0.6592 - acc: 0.6052 - val_loss: 0.6453 - val_acc: 0.7050\n",
      "Epoch 5/50\n",
      "542/542 [==============================] - 0s 212us/step - loss: 0.6399 - acc: 0.6458 - val_loss: 0.6057 - val_acc: 0.6900\n",
      "Epoch 6/50\n",
      "542/542 [==============================] - 0s 225us/step - loss: 0.6052 - acc: 0.7030 - val_loss: 0.5768 - val_acc: 0.6300\n",
      "Epoch 7/50\n",
      "542/542 [==============================] - 0s 291us/step - loss: 0.6417 - acc: 0.6421 - val_loss: 0.6230 - val_acc: 0.7050\n",
      "Epoch 8/50\n",
      "542/542 [==============================] - 0s 223us/step - loss: 0.5921 - acc: 0.6734 - val_loss: 0.5598 - val_acc: 0.7200\n",
      "Epoch 9/50\n",
      "542/542 [==============================] - 0s 212us/step - loss: 0.5647 - acc: 0.7048 - val_loss: 0.6495 - val_acc: 0.5250\n",
      "Epoch 10/50\n",
      "542/542 [==============================] - 0s 269us/step - loss: 0.5130 - acc: 0.7897 - val_loss: 0.5528 - val_acc: 0.6350\n",
      "Epoch 11/50\n",
      "542/542 [==============================] - 0s 219us/step - loss: 0.5186 - acc: 0.7435 - val_loss: 0.5067 - val_acc: 0.8100\n",
      "Epoch 12/50\n",
      "542/542 [==============================] - 0s 215us/step - loss: 0.5322 - acc: 0.7288 - val_loss: 0.5066 - val_acc: 0.8200\n",
      "Epoch 13/50\n",
      "542/542 [==============================] - 0s 200us/step - loss: 0.4476 - acc: 0.7989 - val_loss: 0.6451 - val_acc: 0.6550\n",
      "Epoch 14/50\n",
      "542/542 [==============================] - 0s 206us/step - loss: 0.5431 - acc: 0.7196 - val_loss: 0.4879 - val_acc: 0.8250\n",
      "Epoch 15/50\n",
      "542/542 [==============================] - 0s 278us/step - loss: 0.4967 - acc: 0.8026 - val_loss: 0.5674 - val_acc: 0.5850\n",
      "Epoch 16/50\n",
      "542/542 [==============================] - 0s 184us/step - loss: 0.3956 - acc: 0.8616 - val_loss: 0.6029 - val_acc: 0.6000\n",
      "Epoch 17/50\n",
      "542/542 [==============================] - 0s 160us/step - loss: 0.4230 - acc: 0.8007 - val_loss: 0.6088 - val_acc: 0.6050\n",
      "Epoch 18/50\n",
      "542/542 [==============================] - 0s 155us/step - loss: 0.4709 - acc: 0.7620 - val_loss: 0.4689 - val_acc: 0.7750\n",
      "Epoch 19/50\n",
      "542/542 [==============================] - 0s 163us/step - loss: 0.4130 - acc: 0.8339 - val_loss: 0.4901 - val_acc: 0.7800\n",
      "Epoch 20/50\n",
      "542/542 [==============================] - 0s 186us/step - loss: 0.4450 - acc: 0.7860 - val_loss: 0.4415 - val_acc: 0.8100\n",
      "Epoch 21/50\n",
      "542/542 [==============================] - 0s 195us/step - loss: 0.3451 - acc: 0.8635 - val_loss: 0.4130 - val_acc: 0.8550\n",
      "Epoch 22/50\n",
      "542/542 [==============================] - 0s 163us/step - loss: 0.3922 - acc: 0.8173 - val_loss: 0.4524 - val_acc: 0.8100\n",
      "Epoch 23/50\n",
      "542/542 [==============================] - 0s 151us/step - loss: 0.3319 - acc: 0.8764 - val_loss: 0.5406 - val_acc: 0.7700\n",
      "Epoch 24/50\n",
      "542/542 [==============================] - 0s 164us/step - loss: 0.3722 - acc: 0.8303 - val_loss: 0.3947 - val_acc: 0.8550\n",
      "Epoch 25/50\n",
      "542/542 [==============================] - 0s 165us/step - loss: 0.3970 - acc: 0.8266 - val_loss: 0.3939 - val_acc: 0.8850\n",
      "Epoch 26/50\n",
      "542/542 [==============================] - 0s 162us/step - loss: 0.3173 - acc: 0.8727 - val_loss: 0.3667 - val_acc: 0.8700\n",
      "Epoch 27/50\n",
      "542/542 [==============================] - 0s 230us/step - loss: 0.3753 - acc: 0.8487 - val_loss: 0.3646 - val_acc: 0.8800\n",
      "Epoch 28/50\n",
      "542/542 [==============================] - 0s 212us/step - loss: 0.3122 - acc: 0.8782 - val_loss: 0.3530 - val_acc: 0.8750\n",
      "Epoch 29/50\n",
      "542/542 [==============================] - 0s 293us/step - loss: 0.3428 - acc: 0.8524 - val_loss: 0.3648 - val_acc: 0.8800\n",
      "Epoch 30/50\n",
      "542/542 [==============================] - 0s 218us/step - loss: 0.3228 - acc: 0.8616 - val_loss: 0.3626 - val_acc: 0.8800\n",
      "Epoch 31/50\n",
      "542/542 [==============================] - 0s 214us/step - loss: 0.3569 - acc: 0.8321 - val_loss: 0.3639 - val_acc: 0.8800\n",
      "Epoch 32/50\n",
      "542/542 [==============================] - 0s 312us/step - loss: 0.2835 - acc: 0.9041 - val_loss: 0.3684 - val_acc: 0.8700\n",
      "Epoch 33/50\n",
      "542/542 [==============================] - 0s 229us/step - loss: 0.2365 - acc: 0.9188 - val_loss: 0.3593 - val_acc: 0.8750\n",
      "Epoch 34/50\n",
      "542/542 [==============================] - 0s 261us/step - loss: 0.3164 - acc: 0.8801 - val_loss: 0.4863 - val_acc: 0.7950\n",
      "Epoch 35/50\n",
      "542/542 [==============================] - 0s 241us/step - loss: 0.2922 - acc: 0.8708 - val_loss: 0.3824 - val_acc: 0.8700\n",
      "Epoch 36/50\n",
      "542/542 [==============================] - 0s 215us/step - loss: 0.2354 - acc: 0.9133 - val_loss: 1.6068 - val_acc: 0.5200\n",
      "Epoch 37/50\n",
      "542/542 [==============================] - 0s 213us/step - loss: 0.3670 - acc: 0.8708 - val_loss: 0.3452 - val_acc: 0.9000\n",
      "Epoch 38/50\n",
      "542/542 [==============================] - 0s 246us/step - loss: 0.1706 - acc: 0.9465 - val_loss: 0.3430 - val_acc: 0.8800\n",
      "Epoch 39/50\n",
      "542/542 [==============================] - 0s 235us/step - loss: 0.2706 - acc: 0.8782 - val_loss: 0.3311 - val_acc: 0.8850\n",
      "Epoch 40/50\n",
      "542/542 [==============================] - 0s 290us/step - loss: 0.2918 - acc: 0.8635 - val_loss: 0.3767 - val_acc: 0.8750\n",
      "Epoch 41/50\n",
      "542/542 [==============================] - 0s 231us/step - loss: 0.1718 - acc: 0.9410 - val_loss: 0.3275 - val_acc: 0.8900\n",
      "Epoch 42/50\n",
      "542/542 [==============================] - 0s 201us/step - loss: 0.2165 - acc: 0.9170 - val_loss: 0.7667 - val_acc: 0.6200\n",
      "Epoch 43/50\n",
      "542/542 [==============================] - 0s 164us/step - loss: 0.2025 - acc: 0.9170 - val_loss: 0.5668 - val_acc: 0.7800\n",
      "Epoch 44/50\n",
      "542/542 [==============================] - 0s 175us/step - loss: 0.2110 - acc: 0.9207 - val_loss: 0.3145 - val_acc: 0.9050\n",
      "Epoch 45/50\n",
      "542/542 [==============================] - 0s 163us/step - loss: 0.1566 - acc: 0.9483 - val_loss: 0.3236 - val_acc: 0.9000\n",
      "Epoch 46/50\n",
      "542/542 [==============================] - 0s 156us/step - loss: 0.1948 - acc: 0.9262 - val_loss: 0.3125 - val_acc: 0.9000\n",
      "Epoch 47/50\n",
      "542/542 [==============================] - 0s 160us/step - loss: 0.1400 - acc: 0.9502 - val_loss: 0.3178 - val_acc: 0.9000\n",
      "Epoch 48/50\n",
      "542/542 [==============================] - 0s 149us/step - loss: 0.1492 - acc: 0.9428 - val_loss: 1.5938 - val_acc: 0.5200\n",
      "Epoch 49/50\n",
      "542/542 [==============================] - 0s 177us/step - loss: 0.2243 - acc: 0.9280 - val_loss: 0.3086 - val_acc: 0.8950\n",
      "Epoch 50/50\n",
      "542/542 [==============================] - 0s 175us/step - loss: 0.1075 - acc: 0.9705 - val_loss: 0.5559 - val_acc: 0.7950\n"
     ]
    }
   ],
   "source": [
    "model.compile(optimizer='sgd',\n",
    "              loss='binary_crossentropy',\n",
    "              metrics=['accuracy'])\n",
    "\n",
    "histoire = model.fit(train_img,\n",
    "                    train_y,\n",
    "                    epochs=50,\n",
    "                    batch_size=32,\n",
    "                    validation_data=(val_img, val_y))"
   ]
  },
  {
   "cell_type": "code",
   "execution_count": 47,
   "metadata": {},
   "outputs": [
    {
     "name": "stdout",
     "output_type": "stream",
     "text": [
      "542/542 [==============================] - 0s 69us/step\n"
     ]
    }
   ],
   "source": [
    "results_train = model.evaluate(train_img, train_y)"
   ]
  },
  {
   "cell_type": "code",
   "execution_count": 48,
   "metadata": {},
   "outputs": [
    {
     "name": "stdout",
     "output_type": "stream",
     "text": [
      "180/180 [==============================] - 0s 76us/step\n"
     ]
    }
   ],
   "source": [
    "results_test = model.evaluate(test_img, test_y)"
   ]
  },
  {
   "cell_type": "code",
   "execution_count": null,
   "metadata": {},
   "outputs": [
    {
     "data": {
      "text/plain": [
       "[0.19454749401425084, 0.9225092253121943]"
      ]
     },
     "execution_count": 49,
     "metadata": {},
     "output_type": "execute_result"
    }
   ],
   "source": [
    "results_train"
   ]
  },
  {
   "cell_type": "code",
   "execution_count": null,
   "metadata": {},
   "outputs": [
    {
     "data": {
      "text/plain": [
       "[0.4695923460854424, 0.8]"
      ]
     },
     "execution_count": 50,
     "metadata": {},
     "output_type": "execute_result"
    }
   ],
   "source": [
    "results_test"
   ]
  },
  {
   "cell_type": "markdown",
   "metadata": {},
   "source": [
    "Remember that, in our previous lab on building deeper neural networks from scratch, we obtained a training accuracy of 95%, and a test set accuracy of 74.23%."
   ]
  },
  {
   "cell_type": "markdown",
   "metadata": {},
   "source": [
    "This result is similar to what we got building our manual \"deeper\" dense model. The results are not entirely different. This is not a surprise!\n",
    "- Before, we only had a training and a validation set (which was at the same time the test set). Now we have split up the data 3-ways.\n",
    "- We didn't use minibatches before, yet we used mini-batches of 32 units here.\n"
   ]
  },
  {
   "cell_type": "markdown",
   "metadata": {},
   "source": [
    "## Convnet"
   ]
  },
  {
   "cell_type": "code",
   "execution_count": null,
   "metadata": {},
   "outputs": [],
   "source": [
    "model = models.Sequential()\n",
    "model.add(layers.Conv2D(32, (3, 3), activation='relu',\n",
    "                        input_shape=(64 ,64,  3)))\n",
    "model.add(layers.MaxPooling2D((2, 2)))\n",
    "\n",
    "model.add(layers.Conv2D(32, (4, 4), activation='relu'))\n",
    "model.add(layers.MaxPooling2D((2, 2)))\n",
    "\n",
    "model.add(layers.Conv2D(64, (3, 3), activation='relu'))\n",
    "model.add(layers.MaxPooling2D((2, 2)))\n",
    "\n",
    "model.add(layers.Flatten())\n",
    "model.add(layers.Dense(64, activation='relu'))\n",
    "model.add(layers.Dense(1, activation='sigmoid'))\n",
    "\n",
    "model.compile(loss='binary_crossentropy',\n",
    "              optimizer=\"sgd\",\n",
    "              metrics=['acc'])"
   ]
  },
  {
   "cell_type": "code",
   "execution_count": null,
   "metadata": {},
   "outputs": [
    {
     "name": "stdout",
     "output_type": "stream",
     "text": [
      "Train on 542 samples, validate on 200 samples\n",
      "Epoch 1/30\n",
      "542/542 [==============================] - 6s 10ms/step - loss: 0.6857 - acc: 0.4926 - val_loss: 0.6716 - val_acc: 0.5200\n",
      "Epoch 2/30\n",
      "542/542 [==============================] - 5s 10ms/step - loss: 0.6761 - acc: 0.4852 - val_loss: 0.6667 - val_acc: 0.5450\n",
      "Epoch 3/30\n",
      "542/542 [==============================] - 5s 10ms/step - loss: 0.6677 - acc: 0.5037 - val_loss: 0.6538 - val_acc: 0.5350\n",
      "Epoch 4/30\n",
      "542/542 [==============================] - 5s 9ms/step - loss: 0.6580 - acc: 0.5295 - val_loss: 0.6451 - val_acc: 0.6150\n",
      "Epoch 5/30\n",
      "542/542 [==============================] - 6s 10ms/step - loss: 0.6472 - acc: 0.6107 - val_loss: 0.6324 - val_acc: 0.6650\n",
      "Epoch 6/30\n",
      "542/542 [==============================] - 5s 9ms/step - loss: 0.6345 - acc: 0.6347 - val_loss: 0.6253 - val_acc: 0.8450\n",
      "Epoch 7/30\n",
      "542/542 [==============================] - 6s 10ms/step - loss: 0.6181 - acc: 0.7232 - val_loss: 0.6011 - val_acc: 0.8000\n",
      "Epoch 8/30\n",
      "542/542 [==============================] - 5s 9ms/step - loss: 0.5956 - acc: 0.7823 - val_loss: 0.5803 - val_acc: 0.6250\n",
      "Epoch 9/30\n",
      "542/542 [==============================] - 6s 10ms/step - loss: 0.5719 - acc: 0.7860 - val_loss: 0.5416 - val_acc: 0.7550\n",
      "Epoch 10/30\n",
      "542/542 [==============================] - 5s 9ms/step - loss: 0.5449 - acc: 0.7786 - val_loss: 0.5370 - val_acc: 0.8650\n",
      "Epoch 11/30\n",
      "542/542 [==============================] - 6s 10ms/step - loss: 0.5424 - acc: 0.7657 - val_loss: 0.4801 - val_acc: 0.8900\n",
      "Epoch 12/30\n",
      "542/542 [==============================] - 5s 9ms/step - loss: 0.4962 - acc: 0.8100 - val_loss: 0.4453 - val_acc: 0.8900\n",
      "Epoch 13/30\n",
      "542/542 [==============================] - 6s 10ms/step - loss: 0.4406 - acc: 0.8376 - val_loss: 0.6845 - val_acc: 0.5450\n",
      "Epoch 14/30\n",
      "542/542 [==============================] - 5s 9ms/step - loss: 0.4872 - acc: 0.7528 - val_loss: 0.4903 - val_acc: 0.7250\n",
      "Epoch 15/30\n",
      "542/542 [==============================] - 5s 10ms/step - loss: 0.4879 - acc: 0.7878 - val_loss: 0.3933 - val_acc: 0.9000\n",
      "Epoch 16/30\n",
      "542/542 [==============================] - 6s 10ms/step - loss: 0.4497 - acc: 0.7915 - val_loss: 0.6878 - val_acc: 0.5850\n",
      "Epoch 17/30\n",
      "542/542 [==============================] - 5s 10ms/step - loss: 0.4030 - acc: 0.8247 - val_loss: 0.3586 - val_acc: 0.8900\n",
      "Epoch 18/30\n",
      "542/542 [==============================] - 6s 11ms/step - loss: 0.3401 - acc: 0.8782 - val_loss: 0.3183 - val_acc: 0.8950\n",
      "Epoch 19/30\n",
      "542/542 [==============================] - 5s 10ms/step - loss: 0.4031 - acc: 0.8432 - val_loss: 0.3010 - val_acc: 0.8950\n",
      "Epoch 20/30\n",
      "542/542 [==============================] - 6s 10ms/step - loss: 0.3691 - acc: 0.8469 - val_loss: 0.2916 - val_acc: 0.9000\n",
      "Epoch 21/30\n",
      "542/542 [==============================] - 5s 10ms/step - loss: 0.2884 - acc: 0.9004 - val_loss: 0.7199 - val_acc: 0.6350\n",
      "Epoch 22/30\n",
      "542/542 [==============================] - 6s 11ms/step - loss: 0.3517 - acc: 0.8542 - val_loss: 0.2664 - val_acc: 0.9000\n",
      "Epoch 23/30\n",
      "542/542 [==============================] - 5s 9ms/step - loss: 0.3545 - acc: 0.8284 - val_loss: 0.3963 - val_acc: 0.8000\n",
      "Epoch 24/30\n",
      "542/542 [==============================] - 6s 10ms/step - loss: 0.2815 - acc: 0.8893 - val_loss: 0.2835 - val_acc: 0.9150\n",
      "Epoch 25/30\n",
      "542/542 [==============================] - 5s 10ms/step - loss: 0.2502 - acc: 0.9022 - val_loss: 0.2397 - val_acc: 0.9000\n",
      "Epoch 26/30\n",
      "542/542 [==============================] - 6s 11ms/step - loss: 0.2417 - acc: 0.9114 - val_loss: 0.3934 - val_acc: 0.7900\n",
      "Epoch 27/30\n",
      "542/542 [==============================] - 5s 9ms/step - loss: 0.2253 - acc: 0.9096 - val_loss: 0.2221 - val_acc: 0.9150\n",
      "Epoch 28/30\n",
      "542/542 [==============================] - 6s 11ms/step - loss: 0.2841 - acc: 0.8801 - val_loss: 0.2285 - val_acc: 0.9100\n",
      "Epoch 29/30\n",
      "542/542 [==============================] - 5s 9ms/step - loss: 0.2337 - acc: 0.9133 - val_loss: 0.2425 - val_acc: 0.9000\n",
      "Epoch 30/30\n",
      "542/542 [==============================] - 5s 9ms/step - loss: 0.2201 - acc: 0.9059 - val_loss: 0.2142 - val_acc: 0.9250\n"
     ]
    }
   ],
   "source": [
    "history = model.fit(train_images,\n",
    "                    train_y,\n",
    "                    epochs=30,\n",
    "                    batch_size=32,\n",
    "                    validation_data=(val_images, val_y))"
   ]
  },
  {
   "cell_type": "code",
   "execution_count": null,
   "metadata": {},
   "outputs": [
    {
     "name": "stdout",
     "output_type": "stream",
     "text": [
      "542/542 [==============================] - 2s 3ms/step\n"
     ]
    }
   ],
   "source": [
    "results_train = model.evaluate(train_images, train_y)"
   ]
  },
  {
   "cell_type": "code",
   "execution_count": null,
   "metadata": {},
   "outputs": [
    {
     "name": "stdout",
     "output_type": "stream",
     "text": [
      "180/180 [==============================] - 1s 4ms/step\n"
     ]
    }
   ],
   "source": [
    "results_test = model.evaluate(test_images, test_y)"
   ]
  },
  {
   "cell_type": "code",
   "execution_count": null,
   "metadata": {},
   "outputs": [
    {
     "data": {
      "text/plain": [
       "[0.19192493093849547, 0.9298892991129323]"
      ]
     },
     "execution_count": 55,
     "metadata": {},
     "output_type": "execute_result"
    }
   ],
   "source": [
    "results_train"
   ]
  },
  {
   "cell_type": "code",
   "execution_count": null,
   "metadata": {},
   "outputs": [
    {
     "data": {
      "text/plain": [
       "[0.2538859986596637, 0.9111111097865634]"
      ]
     },
     "execution_count": 56,
     "metadata": {},
     "output_type": "execute_result"
    }
   ],
   "source": [
    "results_test"
   ]
  },
  {
   "cell_type": "markdown",
   "metadata": {},
   "source": [
    "## Data Augmentation"
   ]
  },
  {
   "cell_type": "markdown",
   "metadata": {},
   "source": [
    "ImageDataGenerator becomes really useful when we *actually* want to generate more data. We'll show you how this works."
   ]
  },
  {
   "cell_type": "code",
   "execution_count": null,
   "metadata": {},
   "outputs": [],
   "source": [
    "train_datagen= ImageDataGenerator(rescale=1./255, \n",
    "     rotation_range=40,\n",
    "     width_shift_range=0.2,\n",
    "     height_shift_range=0.2,\n",
    "     shear_range=0.3,\n",
    "     zoom_range=0.1,\n",
    "     horizontal_flip = False)"
   ]
  },
  {
   "cell_type": "code",
   "execution_count": null,
   "metadata": {},
   "outputs": [
    {
     "data": {
      "image/png": "[encoded data removed]",
      "text/plain": [
       "<Figure size 432x288 with 1 Axes>"
      ]
     },
     "metadata": {
      "needs_background": "light"
     },
     "output_type": "display_data"
    },
    {
     "data": {
      "image/png": "[encoded data removed]",
      "text/plain": [
       "<Figure size 432x288 with 1 Axes>"
      ]
     },
     "metadata": {
      "needs_background": "light"
     },
     "output_type": "display_data"
    },
    {
     "data": {
      "image/png": "[encoded data removed]",
      "text/plain": [
       "<Figure size 432x288 with 1 Axes>"
      ]
     },
     "metadata": {
      "needs_background": "light"
     },
     "output_type": "display_data"
    }
   ],
   "source": [
    "names = [os.path.join(train_santa, name) for name in os.listdir(train_santa)]\n",
    "img_path = names[91]\n",
    "img = load_img(img_path, target_size=(64, 64))\n",
    "\n",
    "reshape_img = img_to_array(img) \n",
    "reshape_img = reshape_img.reshape((1,) + reshape_img.shape) \n",
    "i=0\n",
    "for batch in train_datagen.flow(reshape_img, batch_size=1):\n",
    "    plt.figure(i)\n",
    "    imgplot = plt.imshow(array_to_img(batch[0]))\n",
    "    i += 1\n",
    "    if i % 3 == 0:\n",
    "        break\n",
    "plt.show()"
   ]
  },
  {
   "cell_type": "code",
   "execution_count": null,
   "metadata": {},
   "outputs": [
    {
     "name": "stdout",
     "output_type": "stream",
     "text": [
      "Found 307 images belonging to 2 classes.\n",
      "Found 348 images belonging to 2 classes.\n",
      "Found 751 images belonging to 2 classes.\n"
     ]
    }
   ],
   "source": [
    "# get all the data in the directory split/test (180 images), and reshape them\n",
    "test_generator = ImageDataGenerator(rescale=1./255).flow_from_directory(\n",
    "        test_folder, \n",
    "        target_size=(64, 64), \n",
    "        batch_size = 180,\n",
    "        class_mode='binary') \n",
    "\n",
    "# get all the data in the directory split/validation (200 images), and reshape them\n",
    "val_generator = ImageDataGenerator(rescale=1./255).flow_from_directory(\n",
    "        val_folder, \n",
    "        target_size=(64, 64),\n",
    "        batch_size = 32,\n",
    "        class_mode='binary')\n",
    "\n",
    "# get all the data in the directory split/train (542 images), and reshape them\n",
    "train_generator = train_datagen.flow_from_directory(\n",
    "        train_folder, \n",
    "        target_size=(64, 64), \n",
    "        batch_size = 32, \n",
    "        class_mode='binary')"
   ]
  },
  {
   "cell_type": "code",
   "execution_count": null,
   "metadata": {},
   "outputs": [],
   "source": [
    "model = models.Sequential()\n",
    "model.add(layers.Conv2D(32, (3, 3), activation='relu',\n",
    "                        input_shape=(64 ,64,  3)))\n",
    "model.add(layers.MaxPooling2D((2, 2)))\n",
    "\n",
    "model.add(layers.Conv2D(32, (4, 4), activation='relu'))\n",
    "model.add(layers.MaxPooling2D((2, 2)))\n",
    "\n",
    "model.add(layers.Conv2D(64, (3, 3), activation='relu'))\n",
    "model.add(layers.MaxPooling2D((2, 2)))\n",
    "\n",
    "model.add(layers.Flatten())\n",
    "model.add(layers.Dense(64, activation='relu'))\n",
    "model.add(layers.Dense(1, activation='sigmoid'))\n",
    "\n",
    "model.compile(loss='binary_crossentropy',\n",
    "              optimizer= 'sgd',\n",
    "              metrics=['acc'])"
   ]
  },
  {
   "cell_type": "code",
   "execution_count": null,
   "metadata": {},
   "outputs": [
    {
     "name": "stdout",
     "output_type": "stream",
     "text": [
      "Epoch 1/30\n",
      "25/25 [==============================] - 29s 1s/step - loss: 0.6851 - acc: 0.4977 - val_loss: 0.6776 - val_acc: 0.5000\n",
      "Epoch 2/30\n",
      "25/25 [==============================] - 30s 1s/step - loss: 0.6787 - acc: 0.5026 - val_loss: 0.6710 - val_acc: 0.5000\n",
      "Epoch 3/30\n",
      "25/25 [==============================] - 27s 1s/step - loss: 0.6733 - acc: 0.4988 - val_loss: 0.6642 - val_acc: 0.5000\n",
      "Epoch 4/30\n",
      "25/25 [==============================] - 31s 1s/step - loss: 0.6648 - acc: 0.5121 - val_loss: 0.6576 - val_acc: 0.5000\n",
      "Epoch 5/30\n",
      "25/25 [==============================] - 28s 1s/step - loss: 0.6594 - acc: 0.5048 - val_loss: 0.6457 - val_acc: 0.5144\n",
      "Epoch 6/30\n",
      "25/25 [==============================] - 28s 1s/step - loss: 0.6488 - acc: 0.5402 - val_loss: 0.6305 - val_acc: 0.5374\n",
      "Epoch 7/30\n",
      "25/25 [==============================] - 29s 1s/step - loss: 0.6326 - acc: 0.5778 - val_loss: 0.6138 - val_acc: 0.5460\n",
      "Epoch 8/30\n",
      "25/25 [==============================] - 27s 1s/step - loss: 0.6200 - acc: 0.6331 - val_loss: 0.5923 - val_acc: 0.8276\n",
      "Epoch 9/30\n",
      " 3/25 [==>...........................] - ETA: 34s - loss: 0.5943 - acc: 0.7708"
     ]
    }
   ],
   "source": [
    "history_2 = model.fit_generator(\n",
    "      train_generator,\n",
    "      steps_per_epoch=25,\n",
    "      epochs=30,\n",
    "      validation_data=val_generator,\n",
    "      validation_steps=25)"
   ]
  },
  {
   "cell_type": "code",
   "execution_count": null,
   "metadata": {},
   "outputs": [],
   "source": [
    "test_x, test_y = next(test_generator)"
   ]
  },
  {
   "cell_type": "code",
   "execution_count": null,
   "metadata": {},
   "outputs": [],
   "source": [
    "results_test = model.evaluate(test_x, test_y)"
   ]
  },
  {
   "cell_type": "code",
   "execution_count": null,
   "metadata": {},
   "outputs": [],
   "source": [
    "results_test"
   ]
  },
  {
   "cell_type": "markdown",
   "metadata": {},
   "source": [
    "## Summary  \n",
    "\n",
    "In this code along lab, we looked again at some of the preprocessing techniques needed in order to organize our data prior to building a model using Keras. Afterwards, we investigated new code in order to build a CNN for image recognition."
   ]
  }
 ],
 "metadata": {
  "kernelspec": {
   "display_name": "Python 3",
   "language": "python",
   "name": "python3"
  },
  "language_info": {
   "codemirror_mode": {
    "name": "ipython",
    "version": 3
   },
   "file_extension": ".py",
   "mimetype": "text/x-python",
   "name": "python",
   "nbconvert_exporter": "python",
   "pygments_lexer": "ipython3",
   "version": "3.6.6"
  }
 },
 "nbformat": 4,
 "nbformat_minor": 2
}
